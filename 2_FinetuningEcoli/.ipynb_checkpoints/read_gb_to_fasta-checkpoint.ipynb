{
 "cells": [
  {
   "cell_type": "code",
   "execution_count": 2,
   "id": "bd91fa02-a786-4eb3-8ebb-82b2ca1c8ed5",
   "metadata": {},
   "outputs": [],
   "source": [
    "from Bio import SeqIO\n",
    "from Bio.Seq import Seq\n",
    "import pandas as pd\n",
    "import re"
   ]
  },
  {
   "cell_type": "code",
   "execution_count": 3,
   "id": "ca9d3cb5-038f-4fe2-a79c-9b4275fe833d",
   "metadata": {},
   "outputs": [
    {
     "name": "stderr",
     "output_type": "stream",
     "text": [
      "/home/sdowell/miniconda3/envs/KE-default/lib/python3.10/site-packages/Bio/Seq.py:2880: BiopythonWarning: Partial codon, len(sequence) not a multiple of three. Explicitly trim the sequence or add trailing N before translation. This may become an error in future.\n",
      "  warnings.warn(\n"
     ]
    },
    {
     "name": "stdout",
     "output_type": "stream",
     "text": [
      "Translation and conversion complete: 42C_AA.fasta\n"
     ]
    }
   ],
   "source": [
    "# Define input and output files\n",
    "input_file = \"NC_000913_3.gb\"    \n",
    "output_file = \"42C_AA.fasta\" \n",
    "\n",
    "with open(output_file, \"w\") as fasta_output:\n",
    "    for record in SeqIO.parse(input_file, \"genbank\"):\n",
    "        for feature in record.features:\n",
    "            # Check if the feature is a coding sequence (CDS)\n",
    "            if feature.type == \"CDS\":\n",
    "                # Extract the CDS nucleotide sequence\n",
    "                dna_seq = feature.extract(record.seq)\n",
    "\n",
    "                # Translate DNA sequence to protein\n",
    "                protein_seq = dna_seq.translate(to_stop=True)\n",
    "\n",
    "                # Create a unique identifier for each protein (or use gene/locus_tag if available)\n",
    "                protein_id = feature.qualifiers.get(\"protein_id\", [\"unknown_protein\"])[0]\n",
    "                gene_name = feature.qualifiers.get(\"gene\", [\"unknown_gene\"])[0]\n",
    "\n",
    "                # Write the protein sequence in FASTA format\n",
    "                fasta_output.write(f\">{protein_id} {gene_name}\\n{protein_seq}\\n\")\n",
    "\n",
    "print(f\"Translation and conversion complete: {output_file}\")\n"
   ]
  },
  {
   "cell_type": "code",
   "execution_count": 4,
   "id": "7b6c8d7d-47d3-4eb5-bf4d-740e74c5ae5d",
   "metadata": {},
   "outputs": [],
   "source": [
    "Tenallion_data = pd.read_csv('42C_Tenallion.csv')\n",
    "fourtytwoC_data = pd.read_csv('42C.csv')"
   ]
  },
  {
   "cell_type": "code",
   "execution_count": 5,
   "id": "c27231dd-6146-4e9b-8d76-937dc28d6573",
   "metadata": {},
   "outputs": [],
   "source": [
    "def clean_mutation_data(mutation_data):\n",
    "    # Select relevant columns\n",
    "    data = mutation_data[['Gene (Scrollable)', 'Details']].copy()\n",
    "    \n",
    "    # Extract the specific pattern from the 'Details' column\n",
    "    data['Details'] = data['Details'].str.extract(r'(^[A-Z]\\d+[A-Z])')[0]\n",
    "    \n",
    "    # Drop rows with NaN values in the 'Details' column\n",
    "    data = data.dropna()\n",
    "    \n",
    "    return data"
   ]
  },
  {
   "cell_type": "code",
   "execution_count": 6,
   "id": "a743b8a3-7fd0-43eb-8c51-8653b702febe",
   "metadata": {},
   "outputs": [],
   "source": [
    "def mutate_aa_sequence(genbank_file, mutations_df):\n",
    "    mutated_sequences = []  # List to store results\n",
    "\n",
    "    # Parse the GenBank file\n",
    "    for record in SeqIO.parse(genbank_file, \"genbank\"):\n",
    "        # Iterate over each feature (gene/protein)\n",
    "        for feature in record.features:\n",
    "            if feature.type == \"CDS\" and \"gene\" in feature.qualifiers:\n",
    "                gene_name = feature.qualifiers[\"gene\"][0]\n",
    "\n",
    "                # Check if the gene is in our DataFrame\n",
    "                mutation_row = mutations_df[mutations_df[\"Gene (Scrollable)\"] == gene_name]\n",
    "                if not mutation_row.empty:\n",
    "                    # Get the mutation details (AA substitution)\n",
    "                    mutation = mutation_row.iloc[0][\"Details\"]\n",
    "                    original_aa = mutation[0]\n",
    "                    position = int(mutation[1:-1]) - 1  # Adjust for 0-based index\n",
    "                    new_aa = mutation[-1]\n",
    "\n",
    "                    # Get the protein sequence and perform mutation if it matches\n",
    "                    protein_seq = feature.qualifiers.get(\"translation\", [\"\"])[0]\n",
    "                    if len(protein_seq) > position and protein_seq[position] == original_aa:\n",
    "                        mutated_seq = protein_seq[:position] + new_aa + protein_seq[position + 1:]\n",
    "\n",
    "                        # Append the mutated sequence and gene to the list\n",
    "                        mutated_sequences.append((gene_name, mutated_seq))\n",
    "\n",
    "    return mutated_sequences\n"
   ]
  },
  {
   "cell_type": "code",
   "execution_count": 7,
   "id": "652a613e-a2dd-4970-9c3f-1cc923b5cf8e",
   "metadata": {
    "scrolled": true
   },
   "outputs": [
    {
     "name": "stdout",
     "output_type": "stream",
     "text": [
      "The sequences are of different lengths.\n"
     ]
    }
   ],
   "source": [
    "# Clean both data csv files:\n",
    "\n",
    "Tenallion_data = clean_mutation_data(Tenallion_data)\n",
    "fourty2C_data = clean_mutation_data(fourtytwoC_data)\n",
    "\n",
    "eColi_data = pd.concat([Tenallion_data, fourty2C_data])\n",
    "\n",
    "# Example usage\n",
    "genbank_file = \"NC_000913_3.gb\"  \n",
    "mutated_sequences_list = mutate_aa_sequence(genbank_file, eColi_data)\n",
    "\n",
    "# Checking\n",
    "# Display mutated sequences\n",
    "#for gene, seq in mutated_sequences_list:\n",
    "#    print(f\"Gene: {gene}, Mutated Sequence: {seq}\")\n",
    "\n",
    "# mutation worked!\n",
    "mutated_sequences_list[0][1] == \"MKPTTISLLQKYKQEKKRFATITAYDYSFAKLFADEGLNVMLVGDSLGMTVQGHDSTLPVTVADIAYHTAAVRRGAPNCLLLADLPFMAYATPEQAFENAATVMRAGANMVKIEGGEWLVETVQMLTERAVPVCGHLGLTPQSVNIFGGYKVQGRGDEAGDQLLSDALALEAAGAQLLVLECVPVELAKRITEALAIPVIGIGAGNVTDGQILVMHDAFGITGGHIPKFAKNFLAETGDIRAAVRQYMAEVESGVYPGEEHSFH\"\n",
    "\n",
    "# The mutated sequence\n",
    "mutated_sequence = mutated_sequences_list[0][1]\n",
    "\n",
    "# The reference sequence to compare against\n",
    "reference_sequence = \"MKPTTISLLQKYKQEKKRFATITAYDYSFAKLFADEGLNVMLVGDSLGMTVQGHDSTLPVTVADIAYHTAAVRRGAPNCLLLADLPFMAYATPEQAFENAATVMRAGANMVKIEGGEWLVETVQMLTERAVPVCGHLGLTPQSVNIFGGYKVQGRGDEAGDQLLSDALALEAAGAQLLVLECVPVELAKRITEALAIPVIGIGAGNVTDGQILVMHDAFGITGGHIPKFAKNFLAETGDIRAAVRQYMAEVESGVYPGEEHSFH\"\n",
    "\n",
    "# Check if the lengths are different first\n",
    "if len(mutated_sequence) != len(reference_sequence):\n",
    "    print(\"The sequences are of different lengths.\")\n",
    "else:\n",
    "    # List to collect mismatched positions and characters\n",
    "    mismatches = []\n",
    "    \n",
    "    # Iterate over each position and compare characters\n",
    "    for i, (mut_char, ref_char) in enumerate(zip(mutated_sequence, reference_sequence)):\n",
    "        if mut_char != ref_char:\n",
    "            mismatches.append((i, mut_char, ref_char))\n",
    "\n",
    "    # Display mismatches\n",
    "    if mismatches:\n",
    "        print(\"Mismatches found at the following positions (index, mutated, reference):\")\n",
    "        for position, mut_char, ref_char in mismatches:\n",
    "            print(f\"Position {position}: {mut_char} != {ref_char}\")\n",
    "    else:\n",
    "        print(\"The sequences match exactly.\")\n"
   ]
  },
  {
   "cell_type": "code",
   "execution_count": 8,
   "id": "b8948fa5-a40f-4fd1-a287-3bec497ac50c",
   "metadata": {},
   "outputs": [],
   "source": [
    "#print(eColi_data, '\\n')\n",
    "\n",
    "#print(mutated_sequences_list)"
   ]
  },
  {
   "cell_type": "code",
   "execution_count": 10,
   "id": "75e9e4c3-605e-49c2-bf54-e0b7fe7cd75c",
   "metadata": {},
   "outputs": [
    {
     "name": "stdout",
     "output_type": "stream",
     "text": [
      "FASTA file '42C_mutated_seqs.fasta' created successfully!\n"
     ]
    }
   ],
   "source": [
    "# convert mutated_sequences_list to a fasta file for finetuning\n",
    "\n",
    "# Specify output file name\n",
    "output_file = \"42C_mutated_seqs.fasta\"\n",
    "\n",
    "# Write to FASTA format\n",
    "with open(output_file, \"w\") as fasta_file:\n",
    "    for identifier, sequence in mutated_sequences_list:\n",
    "        fasta_file.write(f\">{identifier}\\n\")  # Write header\n",
    "        fasta_file.write(f\"{sequence}\\n\")     # Write sequence\n",
    "\n",
    "print(f\"FASTA file '{output_file}' created successfully!\")"
   ]
  },
  {
   "cell_type": "code",
   "execution_count": null,
   "id": "dafd0c8a-8366-4af3-b5d2-26fe6e354bcd",
   "metadata": {},
   "outputs": [],
   "source": []
  }
 ],
 "metadata": {
  "kernelspec": {
   "display_name": "Python 3 (ipykernel)",
   "language": "python",
   "name": "python3"
  },
  "language_info": {
   "codemirror_mode": {
    "name": "ipython",
    "version": 3
   },
   "file_extension": ".py",
   "mimetype": "text/x-python",
   "name": "python",
   "nbconvert_exporter": "python",
   "pygments_lexer": "ipython3",
   "version": "3.10.14"
  }
 },
 "nbformat": 4,
 "nbformat_minor": 5
}

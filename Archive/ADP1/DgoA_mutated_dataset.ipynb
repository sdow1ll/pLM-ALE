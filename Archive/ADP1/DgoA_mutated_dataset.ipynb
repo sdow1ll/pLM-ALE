{
 "cells": [
  {
   "cell_type": "markdown",
   "id": "3feda113-f514-4b00-b8df-e84193a6e1ee",
   "metadata": {},
   "source": [
    "# DgoA Point Mutations Dataset"
   ]
  },
  {
   "cell_type": "markdown",
   "id": "80a320d5-592a-4ee5-b6ea-4107fcf10492",
   "metadata": {},
   "source": [
    "This quick script is just applying each of the 7 point mutations to the DgoA WT sequence individually and saving all the mutated sequences into a single fasta file. After processing, 19521 sequences come out."
   ]
  },
  {
   "cell_type": "code",
   "execution_count": 1,
   "id": "89c6ccd6-135a-47d0-ba7f-ccb7908c4f1c",
   "metadata": {},
   "outputs": [
    {
     "data": {
      "text/plain": [
       "19521"
      ]
     },
     "execution_count": 1,
     "metadata": {},
     "output_type": "execute_result"
    }
   ],
   "source": [
    "from Bio import SeqIO\n",
    "from Bio.SeqRecord import SeqRecord\n",
    "from Bio.Seq import Seq\n",
    "\n",
    "mutations = [(\"F\", 33, \"I\"), (\"D\", 58, \"N\"), (\"Q\", 72, \"H\"),\n",
    "             (\"A\", 75, \"V\"), (\"V\", 85, \"A\"), (\"V\", 154, \"F\"), (\"Y\", 180, \"F\")]\n",
    "\n",
    "mutated_records = []\n",
    "\n",
    "for record in SeqIO.parse(\"seq_data/DgoA_BLAST.fasta\", \"fasta\"):\n",
    "    seq_str = str(record.seq)\n",
    "    for ref_aa, pos, mut_aa in mutations:\n",
    "        idx = pos - 1\n",
    "        if idx < len(seq_str) and seq_str[idx] == ref_aa:\n",
    "            mutated_seq = seq_str[:idx] + mut_aa + seq_str[idx+1:]\n",
    "            mut_label = f\"{ref_aa}{pos}{mut_aa}\"\n",
    "            new_id = f\"{record.id}_{mut_label}\"\n",
    "            description = f\"growth=auxotroph mutation={mut_label} source={record.id}\"\n",
    "            mutated_record = SeqRecord(Seq(mutated_seq), id=new_id, description=description)\n",
    "            mutated_records.append(mutated_record)\n",
    "\n",
    "SeqIO.write(mutated_records, \"dgoa_mutants.fasta\", \"fasta\")\n"
   ]
  }
 ],
 "metadata": {
  "kernelspec": {
   "display_name": "Python 3 (ipykernel)",
   "language": "python",
   "name": "python3"
  },
  "language_info": {
   "codemirror_mode": {
    "name": "ipython",
    "version": 3
   },
   "file_extension": ".py",
   "mimetype": "text/x-python",
   "name": "python",
   "nbconvert_exporter": "python",
   "pygments_lexer": "ipython3",
   "version": "3.10.14"
  }
 },
 "nbformat": 4,
 "nbformat_minor": 5
}

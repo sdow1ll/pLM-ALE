{
 "cells": [
  {
   "cell_type": "code",
   "execution_count": 3,
   "id": "a9c29c86-2422-4087-8608-9acfbdbbe882",
   "metadata": {},
   "outputs": [
    {
     "name": "stdout",
     "output_type": "stream",
     "text": [
      "0: <cls>\n",
      "1: <pad>\n",
      "2: <eos>\n",
      "3: <unk>\n",
      "4: L\n",
      "5: A\n",
      "6: G\n",
      "7: V\n",
      "8: S\n",
      "9: E\n",
      "10: R\n",
      "11: T\n",
      "12: I\n",
      "13: D\n",
      "14: P\n",
      "15: K\n",
      "16: Q\n",
      "17: N\n",
      "18: F\n",
      "19: Y\n",
      "20: M\n",
      "21: H\n",
      "22: W\n",
      "23: C\n",
      "24: X\n",
      "25: B\n",
      "26: U\n",
      "27: Z\n",
      "28: O\n",
      "29: .\n",
      "30: -\n",
      "31: <null_1>\n",
      "32: <mask>\n"
     ]
    }
   ],
   "source": [
    "from transformers import AutoTokenizer\n",
    "\n",
    "tokenizer = AutoTokenizer.from_pretrained(\"facebook/esm2_t33_650M_UR50D\")\n",
    "\n",
    "vocab = tokenizer.get_vocab()\n",
    "\n",
    "# Print a few items\n",
    "for token, idx in list(vocab.items())[:]:\n",
    "    print(f\"{idx}: {token}\")\n"
   ]
  },
  {
   "cell_type": "code",
   "execution_count": null,
   "id": "172cde8b-c4b6-40d4-a07d-09b06acc3fdb",
   "metadata": {},
   "outputs": [],
   "source": []
  }
 ],
 "metadata": {
  "kernelspec": {
   "display_name": "Python 3 (ipykernel)",
   "language": "python",
   "name": "python3"
  },
  "language_info": {
   "codemirror_mode": {
    "name": "ipython",
    "version": 3
   },
   "file_extension": ".py",
   "mimetype": "text/x-python",
   "name": "python",
   "nbconvert_exporter": "python",
   "pygments_lexer": "ipython3",
   "version": "3.10.14"
  }
 },
 "nbformat": 4,
 "nbformat_minor": 5
}

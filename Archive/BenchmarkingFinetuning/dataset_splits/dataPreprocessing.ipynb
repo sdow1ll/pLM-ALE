{
 "cells": [
  {
   "cell_type": "markdown",
   "id": "d40f6925-6d7d-4a3d-a734-8f59ea08d5fa",
   "metadata": {},
   "source": [
    "# Process CDs and get ALE Gene ref sequences of E COLI K12 STRAIN"
   ]
  },
  {
   "cell_type": "code",
   "execution_count": 12,
   "id": "7483654e-c0bc-4835-80f8-a195c4927fb8",
   "metadata": {},
   "outputs": [],
   "source": [
    "from Bio import SeqIO\n",
    "\n",
    "# Path to GenBank file\n",
    "genbank_file = \"bop27_1_4.gb\"  # or .gbff\n",
    "\n",
    "# Open and parse the GenBank file\n",
    "with open(genbank_file, \"r\") as handle:\n",
    "    for record in SeqIO.parse(handle, \"genbank\"):\n",
    "        for feature in record.features:\n",
    "            if feature.type == \"CDS\" and \"translation\" in feature.qualifiers:\n",
    "                protein_id = feature.qualifiers.get(\"protein_id\", [\"no_id\"])[0]\n",
    "                product = feature.qualifiers.get(\"product\", [\"unnamed\"])[0]\n",
    "                translation = feature.qualifiers[\"translation\"][0]\n",
    "                #print(f\">{protein_id} {product}\")\n",
    "                #print(translation)\n"
   ]
  },
  {
   "cell_type": "markdown",
   "id": "c21ccbcc-d32c-4b77-bf08-9f5bde842776",
   "metadata": {},
   "source": [
    "# Read in Genes of interest from .gb file"
   ]
  },
  {
   "cell_type": "code",
   "execution_count": 13,
   "id": "f035f1c4-d1a6-4d57-ac6d-65c3310b993d",
   "metadata": {},
   "outputs": [
    {
     "name": "stdout",
     "output_type": "stream",
     "text": [
      ">NP_415790.1 | gene=topA | product=DNA topoisomerase I, omega subunit\n",
      "MGKALVIVESPAKAKTINKYLGSDYVVKSSVGHIRDLPTSGSAAKKSADSTSTKTAKKPKKDERGALVNRMGVDPWHNWEAHYEVLPGKEKVVSELKQLAEKADHIYLATDLDREGEAIAWHLREVIGGDDARYSRVVFNEITKNAIRQAFNKPGELNIDRVNAQQARRFMDRVVGYMVSPLLWKKIARGLSAGRVQSVAVRLVVEREREIKAFVPEEFWEVDASTTTPSGEALALQVTHQNDKPFRPVNKEQTQAAVSLLEKARYSVLEREDKPTTSKPGAPFITSTLQQAASTRLGFGVKKTMMMAQRLYEAGYITYMRTDSTNLSQDAVNMVRGYISDNFGKKYLPESPNQYASKENSQEAHEAIRPSDVNVMAESLKDMEADAQKLYQLIWRQFVACQMTPAKYDSTTLTVGAGDFRLKARGRILRFDGWTKVMPALRKGDEDRILPAVNKGDALTLVELTPAQHFTKPPARFSEASLVKELEKRGIGRPSTYASIISTIQDRGYVRVENRRFYAEKMGEIVTDRLEENFRELMNYDFTAQMENSLDQVANHEAEWKAVLDHFFSDFTQQLDKAEKDPEEGGMRPNQMVLTSIDCPTCGRKMGIRTASTGVFLGCSGYALPPKERCKTTINLVPENEVLNVLEGEDAETNALRAKRRCPKCGTAMDSYLIDPKRKLHVCGNNPTCDGYEIEEGEFRIKGYDGPIVECEKCGSEMHLKMGRFGKYMACTNEECKNTRKILRNGEVAPPKEDPVPLPELPCEKSDAYFVLRDGAAGVFLAANTFPKSRETRAPLVEELYRFRDRLPEKLRYLADAPQQDPEGNKTMVRFSRKTKQQYVSSEKDGKATGWSAFYVDGKWVEGKK\n",
      ">NP_416657.1 | gene=yeiB | product=DUF418 family putative inner membrane protein\n",
      "MERNVTLDFVRGVAILGILLLNISAFGLPKAAYLNPAWYGAITPRDAWTWAFLDLIGQVKFLTLFALLFGAGLQMLLPRGRRWIQSRLTLLVLLGFIHGLLFWDGDILLAYGLVGLICWRLVRDAPSVKSLFNTGVMLYLVGLGVLLLLGLISDSQTSRAWTPDASAILYEKYWKLHGGVEAISNRADGVGNSLLALGAQYGWQLAGMMLIGAALMRSGWLKGQFSLRHYRRTGFVLVAIGVTINLPAIALQWQLDWAYRWCAFLLQMPRELSAPFQAIGYASLFYGFWPQLSRFKLVLAIACVGRMALTNYLLQTLICTTLFYHLGLFMHFDRLELLAFVIPVWLANILFSVIWLRYFRQGPVEWLWRQLTLRAAGPAISKTSR\n",
      ">NP_418107.1 | gene=spoT | product=bifunctional (p)ppGpp synthetase II/ guanosine-3',5'-bis pyrophosphate 3'-pyrophosphohydrolase\n",
      "MYLFESLNQLIQTYLPEDQIKRLRQAYLVARDAHEGQTRSSGEPYITHPVAVACILAEMKLDYETLMAALLHDVIEDTPATYQDMEQLFGKSVAELVEGVSKLDKLKFRDKKEAQAENFRKMIMAMVQDIRVILIKLADRTHNMRTLGSLRPDKRRRIARETLEIYSPLAHRLGIHHIKTELEELGFEALYPNRYRVIKEVVKAARGNRKEMIQKILSEIEGRLQEAGIPCRVSGREKHLYSIYCKMVLKEQRFHSIMDIYAFRVIVNDSDTCYRVLGQMHSLYKPRPGRVKDYIAIPKANGYQSLHTSMIGPHGVPVEVQIRTEDMDQMAEMGVAAHWAYKEHGETSTTAQIRAQRWMQSLLELQQSAGSSFEFIESVKSDLFPDEIYVFTPEGRIVELPAGATPVDFAYAVHTDIGHACVGARVDRQPYPLSQPLTSGQTVEIITAPGARPNAAWLNFVVSSKARAKIRQLLKNLKRDDSVSLGRRLLNHALGGSRKLNEIPQENIQRELDRMKLATLDDLLAEIGLGNAMSVVVAKNLQHGDASIPPATQSHGHLPIKGADGVLITFAKCCRPIPGDPIIAHVSPGKGLVIHHESCRNIRGYQKEPEKFMAVEWDKETAQEFITEIKVEMFNHQGALANLTAAINTTTSNIQSLNTEEKDGRVYSAFIRLTARDRVHLANIMRKIRVMPDVIKVTRNRN\n"
     ]
    }
   ],
   "source": [
    "from Bio import SeqIO\n",
    "\n",
    "# Define the gene names you're interested in\n",
    "target_genes = {\"spoT\", \"topA\", \"yeiB\"}\n",
    "\n",
    "# Path to your GenBank file\n",
    "genbank_file = \"bop27_1_4.gb\"  # replace with your filename\n",
    "\n",
    "with open(genbank_file, \"r\") as handle:\n",
    "    for record in SeqIO.parse(handle, \"genbank\"):\n",
    "        for feature in record.features:\n",
    "            if feature.type == \"CDS\":\n",
    "                gene_name = feature.qualifiers.get(\"gene\", [None])[0]\n",
    "                if gene_name in target_genes:\n",
    "                    protein_id = feature.qualifiers.get(\"protein_id\", [\"unknown_protein\"])[0]\n",
    "                    product = feature.qualifiers.get(\"product\", [\"unnamed\"])[0]\n",
    "                    translation = feature.qualifiers.get(\"translation\", [\"\"])[0]\n",
    "                    print(f\">{protein_id} | gene={gene_name} | product={product}\")\n",
    "                    print(translation)\n"
   ]
  },
  {
   "cell_type": "markdown",
   "id": "e37f8434-2b58-4cba-ae32-c3814b832e5d",
   "metadata": {},
   "source": [
    "# Save to .faa file"
   ]
  },
  {
   "cell_type": "code",
   "execution_count": 14,
   "id": "c8b8e752-5cd1-44b9-b9bf-97bebfc13d7b",
   "metadata": {},
   "outputs": [
    {
     "name": "stdout",
     "output_type": "stream",
     "text": [
      "Saved 3 sequences to target_genes.faa\n"
     ]
    }
   ],
   "source": [
    "from Bio import SeqIO\n",
    "from Bio.Seq import Seq\n",
    "from Bio.SeqRecord import SeqRecord\n",
    "\n",
    "# Define the genes you want\n",
    "target_genes = {\"spoT\", \"topA\", \"yeiB\"}\n",
    "\n",
    "# GenBank file path\n",
    "genbank_file = \"bop27_1_4.gb\"\n",
    "\n",
    "# List to collect SeqRecords\n",
    "records = []\n",
    "\n",
    "# Parse the GenBank and extract target genes\n",
    "with open(genbank_file, \"r\") as handle:\n",
    "    for record in SeqIO.parse(handle, \"genbank\"):\n",
    "        for feature in record.features:\n",
    "            if feature.type == \"CDS\":\n",
    "                gene_name = feature.qualifiers.get(\"gene\", [None])[0]\n",
    "                if gene_name in target_genes:\n",
    "                    protein_id = feature.qualifiers.get(\"protein_id\", [\"unknown_protein\"])[0]\n",
    "                    product = feature.qualifiers.get(\"product\", [\"unnamed\"])[0]\n",
    "                    translation = feature.qualifiers.get(\"translation\", [\"\"])[0]\n",
    "                    \n",
    "                    # Create SeqRecord\n",
    "                    seq_record = SeqRecord(\n",
    "                        Seq(translation),\n",
    "                        id=protein_id,\n",
    "                        description=f\"gene={gene_name} product={product}\"\n",
    "                    )\n",
    "                    records.append(seq_record)\n",
    "\n",
    "# Write to FASTA\n",
    "output_file = \"target_genes.faa\"\n",
    "SeqIO.write(records, output_file, \"fasta\")\n",
    "\n",
    "print(f\"Saved {len(records)} sequences to {output_file}\")\n"
   ]
  },
  {
   "cell_type": "markdown",
   "id": "28475694-f7ae-405c-82e2-840a01dbaecb",
   "metadata": {},
   "source": [
    "# Find 5-kmer"
   ]
  },
  {
   "cell_type": "code",
   "execution_count": 41,
   "id": "d80b24e2-a0fd-4272-a974-505140f79340",
   "metadata": {},
   "outputs": [
    {
     "name": "stdout",
     "output_type": "stream",
     "text": [
      "Loaded 1 sequences.\n",
      "\n",
      "Sequence ID: NP_416657.1\n",
      "Sequence Length: 385 amino acids\n",
      "\n",
      "K-mer from position 141 to 145 (inclusive): VGLGV\n"
     ]
    }
   ],
   "source": [
    "from Bio import SeqIO\n",
    "\n",
    "# Specify your FASTA file\n",
    "fasta_file = \"original_gene_fastas/yeiB.fasta\"\n",
    "\n",
    "# Read sequences from the file\n",
    "sequences = list(SeqIO.parse(fasta_file, \"fasta\"))\n",
    "\n",
    "# Check how many sequences you have\n",
    "print(f\"Loaded {len(sequences)} sequences.\")\n",
    "\n",
    "# Let's inspect the first sequence as an example\n",
    "sequence = sequences[0].seq\n",
    "print(f\"\\nSequence ID: {sequences[0].id}\")\n",
    "print(f\"Sequence Length: {len(sequence)} amino acids\\n\")\n",
    "\n",
    "# Index slicing example (positions are 1-based for biological clarity)\n",
    "start_position = 143-2  # biological position (1-based)\n",
    "end_position = 143+2    # inclusive\n",
    "\n",
    "# Python uses 0-based indexing, so subtract 1 from start_position\n",
    "kmer = sequence[start_position-1:end_position]\n",
    "\n",
    "print(f\"K-mer from position {start_position} to {end_position} (inclusive): {kmer}\")\n"
   ]
  },
  {
   "cell_type": "markdown",
   "id": "1fd45452-13a5-4730-9993-3ea77f7fa31d",
   "metadata": {},
   "source": [
    "# Mutate sequences that have 5-kmer and save all mutated seqs into new fasta file"
   ]
  },
  {
   "cell_type": "code",
   "execution_count": 42,
   "id": "71eaa0d6-a233-47ac-a4fd-1d61a6f332a3",
   "metadata": {},
   "outputs": [
    {
     "name": "stdout",
     "output_type": "stream",
     "text": [
      "\n",
      "🎯 Mutation completed. 2912 mutated sequences saved to 'yeiB_mutated_seqs.fasta'.\n"
     ]
    }
   ],
   "source": [
    "from Bio import SeqIO\n",
    "from Bio.SeqRecord import SeqRecord\n",
    "from Bio.Seq import Seq\n",
    "\n",
    "# Your input FASTA file\n",
    "input_fasta = \"sequencesThatNeedMutated/yeiB_tomutSeq.fasta\"\n",
    "\n",
    "# Output FASTA file (mutated sequences)\n",
    "output_fasta = \"yeiB_mutated_seqs.fasta\"\n",
    "\n",
    "# The mutation in format 'OriginalAA_Position_MutatedAA', e.g., 'H33Y'\n",
    "mutation = 'L143I'\n",
    "\n",
    "# Parse the mutation string\n",
    "original_aa = mutation[0]\n",
    "mut_position = int(mutation[1:-1])  # numeric position\n",
    "mutated_aa = mutation[-1]\n",
    "\n",
    "# Define k-mer (centered around mutation site)\n",
    "kmer = \"VGLGV\"\n",
    "\n",
    "mutated_records = []\n",
    "\n",
    "for record in SeqIO.parse(input_fasta, \"fasta\"):\n",
    "    seq_str = str(record.seq)\n",
    "    \n",
    "    # Ensure sequence is long enough\n",
    "    if len(seq_str) < mut_position:\n",
    "        #print(f\"❌ {record.id}: sequence too short for mutation position {mut_position}\")\n",
    "        continue\n",
    "\n",
    "    # Check the amino acid matches original AA at given position\n",
    "    if seq_str[mut_position - 1] != original_aa:\n",
    "        #print(f\"❌ {record.id}: original amino acid mismatch at position {mut_position} (found '{seq_str[mut_position - 1]}', expected '{original_aa}')\")\n",
    "        continue\n",
    "\n",
    "    # Determine k-mer around mutation (if not explicitly defined)\n",
    "    if not kmer:\n",
    "        start = max(0, mut_position - flank - 1)\n",
    "        end = min(len(seq_str), mut_position + flank)\n",
    "        kmer_current = seq_str[start:end]\n",
    "    else:\n",
    "        kmer_current = kmer\n",
    "    \n",
    "    # Confirm k-mer exists in sequence\n",
    "    kmer_pos = seq_str.find(kmer_current)\n",
    "    if kmer_pos == -1:\n",
    "        #print(f\"❌ {record.id}: k-mer '{kmer_current}' not found in sequence.\")\n",
    "        continue\n",
    "    \n",
    "    # Apply mutation at the specific position\n",
    "    mutated_seq = list(seq_str)\n",
    "    mutated_seq[mut_position - 1] = mutated_aa\n",
    "    mutated_seq = \"\".join(mutated_seq)\n",
    "\n",
    "    # Make a new record for mutated sequence\n",
    "    new_record = SeqRecord(\n",
    "        Seq(mutated_seq),\n",
    "        id=f\"{record.id}_mut_{mutation}\",\n",
    "        description=f\"Mutated {mutation} at position {mut_position}\"\n",
    "    )\n",
    "\n",
    "    mutated_records.append(new_record)\n",
    "    #print(f\"✅ {record.id}: Mutation {mutation} applied successfully.\")\n",
    "\n",
    "# Save mutated sequences to FASTA file\n",
    "SeqIO.write(mutated_records, output_fasta, \"fasta\")\n",
    "\n",
    "print(f\"\\n🎯 Mutation completed. {len(mutated_records)} mutated sequences saved to '{output_fasta}'.\")\n"
   ]
  },
  {
   "cell_type": "markdown",
   "id": "91c8ba76-8c83-425d-ba24-74d8dd9e0ede",
   "metadata": {},
   "source": [
    "# Merge mutated seqs of each gene into one fasta file"
   ]
  },
  {
   "cell_type": "code",
   "execution_count": 43,
   "id": "d225b32f-e9f8-490f-9a99-c3def28fcaaa",
   "metadata": {},
   "outputs": [
    {
     "name": "stdout",
     "output_type": "stream",
     "text": [
      "📌 topA_mutated_seqs.fasta: 4924 sequences loaded.\n",
      "📌 yeiB_mutated_seqs.fasta: 2912 sequences loaded.\n",
      "📌 spoT_mutated_seqs.fasta: 1526 sequences loaded.\n",
      "\n",
      "✅ Successfully merged 9362 sequences into 'ALE_dataset_sequences.fasta'.\n"
     ]
    }
   ],
   "source": [
    "\n",
    "# List of FASTA files you want to merge\n",
    "fasta_files = [\"topA_mutated_seqs.fasta\", \"yeiB_mutated_seqs.fasta\", \"spoT_mutated_seqs.fasta\"]  \n",
    "# Output merged FASTA file\n",
    "merged_fasta = \"ALE_dataset_sequences.fasta\"\n",
    "\n",
    "# Collect all sequences from the provided FASTA files\n",
    "merged_records = []\n",
    "for fasta in fasta_files:\n",
    "    sequences = list(SeqIO.parse(fasta, \"fasta\"))\n",
    "    print(f\"📌 {fasta}: {len(sequences)} sequences loaded.\")\n",
    "    merged_records.extend(sequences)\n",
    "\n",
    "# Write the merged sequences into a new FASTA file\n",
    "SeqIO.write(merged_records, merged_fasta, \"fasta\")\n",
    "\n",
    "print(f\"\\n✅ Successfully merged {len(merged_records)} sequences into '{merged_fasta}'.\")\n"
   ]
  },
  {
   "cell_type": "markdown",
   "id": "e49fe985-c971-4ece-9ec8-e378e2a282eb",
   "metadata": {},
   "source": [
    "# Split dataset fasta files into training validation and test fastas"
   ]
  },
  {
   "cell_type": "code",
   "execution_count": 44,
   "id": "070a5896-1248-46cd-9115-a3f75537d3b3",
   "metadata": {},
   "outputs": [
    {
     "name": "stdout",
     "output_type": "stream",
     "text": [
      "Total sequences loaded: 9362\n",
      "\n",
      "✅ Data split completed:\n",
      "   🔹 Training set: 7489 sequences saved to 'train.fasta'\n",
      "   🔹 Validation set: 1404 sequences saved to 'valid.fasta'\n",
      "   🔹 Test set: 469 sequences saved to 'test.fasta'\n"
     ]
    }
   ],
   "source": [
    "from Bio import SeqIO\n",
    "from sklearn.model_selection import train_test_split\n",
    "\n",
    "merged_fasta = \"ALE_dataset_sequences.fasta\"\n",
    "\n",
    "# Load sequences from the merged file\n",
    "all_sequences = list(SeqIO.parse(merged_fasta, \"fasta\"))\n",
    "print(f\"Total sequences loaded: {len(all_sequences)}\")\n",
    "\n",
    "# First, split into 80% train and 20% temporary set\n",
    "train_seqs, temp_seqs = train_test_split(all_sequences, test_size=0.20, random_state=42)\n",
    "\n",
    "# Now split the temporary set (20%) into 15% validation and 5% test\n",
    "valid_seqs, test_seqs = train_test_split(temp_seqs, test_size=0.25, random_state=42)\n",
    "\n",
    "\n",
    "# Save splits into separate FASTA files\n",
    "SeqIO.write(train_seqs, \"train.fasta\", \"fasta\")\n",
    "SeqIO.write(valid_seqs, \"valid.fasta\", \"fasta\")\n",
    "SeqIO.write(test_seqs, \"test.fasta\", \"fasta\")\n",
    "\n",
    "# Confirm your splits\n",
    "print(\"\\n✅ Data split completed:\")\n",
    "print(f\"   🔹 Training set: {len(train_seqs)} sequences saved to 'train.fasta'\")\n",
    "print(f\"   🔹 Validation set: {len(valid_seqs)} sequences saved to 'valid.fasta'\")\n",
    "print(f\"   🔹 Test set: {len(test_seqs)} sequences saved to 'test.fasta'\")\n"
   ]
  },
  {
   "cell_type": "code",
   "execution_count": null,
   "id": "cf65fa16-346a-40d6-9dae-e54487093567",
   "metadata": {},
   "outputs": [],
   "source": []
  }
 ],
 "metadata": {
  "kernelspec": {
   "display_name": "Python 3 (ipykernel)",
   "language": "python",
   "name": "python3"
  },
  "language_info": {
   "codemirror_mode": {
    "name": "ipython",
    "version": 3
   },
   "file_extension": ".py",
   "mimetype": "text/x-python",
   "name": "python",
   "nbconvert_exporter": "python",
   "pygments_lexer": "ipython3",
   "version": "3.10.14"
  }
 },
 "nbformat": 4,
 "nbformat_minor": 5
}

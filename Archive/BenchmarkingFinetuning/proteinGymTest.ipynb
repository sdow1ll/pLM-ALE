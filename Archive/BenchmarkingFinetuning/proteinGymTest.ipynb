{
 "cells": [
  {
   "cell_type": "code",
   "execution_count": 3,
   "id": "3bedb644-51f4-4dbc-97ea-194c9caf7bdf",
   "metadata": {
    "execution": {
     "iopub.execute_input": "2025-02-16T04:06:36.205350Z",
     "iopub.status.busy": "2025-02-16T04:06:36.204987Z",
     "iopub.status.idle": "2025-02-16T04:06:42.828389Z",
     "shell.execute_reply": "2025-02-16T04:06:42.827682Z",
     "shell.execute_reply.started": "2025-02-16T04:06:36.205329Z"
    },
    "tags": []
   },
   "outputs": [
    {
     "name": "stderr",
     "output_type": "stream",
     "text": [
      "/home/idies/miniconda3/envs/py39/lib/python3.9/site-packages/scipy/__init__.py:155: UserWarning: A NumPy version >=1.18.5 and <1.26.0 is required for this version of SciPy (detected version 1.26.3\n",
      "  warnings.warn(f\"A NumPy version >={np_minversion} and <{np_maxversion}\"\n"
     ]
    }
   ],
   "source": [
    "from transformers import AutoModelForCausalLM, AutoTokenizer\n",
    "import torch\n",
    "import pandas as pd\n",
    "from tqdm import tqdm\n",
    "import matplotlib.pyplot as plt\n",
    "\n",
    "print(\"CUDA Available:\", torch.cuda.is_available())\n",
    "print(\"GPU Name:\", torch.cuda.get_device_name(0))\n"
   ]
  },
  {
   "cell_type": "code",
   "execution_count": 4,
   "id": "9b560adb-568f-4039-a510-a49103ea1c81",
   "metadata": {
    "execution": {
     "iopub.execute_input": "2025-02-16T04:06:42.829850Z",
     "iopub.status.busy": "2025-02-16T04:06:42.829626Z",
     "iopub.status.idle": "2025-02-16T04:06:47.018024Z",
     "shell.execute_reply": "2025-02-16T04:06:47.017206Z",
     "shell.execute_reply.started": "2025-02-16T04:06:42.829830Z"
    },
    "tags": []
   },
   "outputs": [],
   "source": [
    "model_name = \"hugohrban/progen2-small\"\n",
    "\n",
    "tokenizer = AutoTokenizer.from_pretrained(model_name, trust_remote_code=True)\n",
    "model = AutoModelForCausalLM.from_pretrained(model_name, trust_remote_code=True).eval().cuda()"
   ]
  },
  {
   "cell_type": "code",
   "execution_count": 12,
   "id": "e7fc5bd2-8cd1-432e-ad48-cde774c5e42d",
   "metadata": {
    "execution": {
     "iopub.execute_input": "2025-02-16T04:10:51.736145Z",
     "iopub.status.busy": "2025-02-16T04:10:51.735775Z",
     "iopub.status.idle": "2025-02-16T04:10:51.740997Z",
     "shell.execute_reply": "2025-02-16T04:10:51.740220Z",
     "shell.execute_reply.started": "2025-02-16T04:10:51.736121Z"
    },
    "tags": []
   },
   "outputs": [],
   "source": [
    "def compute_log_likelihood(sequence, model, tokenizer):\n",
    "    \"\"\"Compute log-likelihood of a given sequence using ProGen2.\"\"\"\n",
    "    inputs = tokenizer(sequence, return_tensors=\"pt\", padding=False, truncation=True)\n",
    "    inputs = {k: v.to(device) for k, v in inputs.items()}  # Move to GPU if available\n",
    "    with torch.no_grad():\n",
    "        outputs = model(**inputs, labels=inputs[\"input_ids\"])\n",
    "    return -outputs.loss.item()  # Negative loss is log-likelihood\n",
    "\n"
   ]
  },
  {
   "cell_type": "code",
   "execution_count": 13,
   "id": "3ede4727-c1bb-4075-9254-74ccd784804f",
   "metadata": {
    "execution": {
     "iopub.execute_input": "2025-02-16T04:10:53.449859Z",
     "iopub.status.busy": "2025-02-16T04:10:53.449543Z",
     "iopub.status.idle": "2025-02-16T04:10:53.465948Z",
     "shell.execute_reply": "2025-02-16T04:10:53.465384Z",
     "shell.execute_reply.started": "2025-02-16T04:10:53.449838Z"
    },
    "tags": []
   },
   "outputs": [
    {
     "data": {
      "text/html": [
       "<div>\n",
       "<style scoped>\n",
       "    .dataframe tbody tr th:only-of-type {\n",
       "        vertical-align: middle;\n",
       "    }\n",
       "\n",
       "    .dataframe tbody tr th {\n",
       "        vertical-align: top;\n",
       "    }\n",
       "\n",
       "    .dataframe thead th {\n",
       "        text-align: right;\n",
       "    }\n",
       "</style>\n",
       "<table border=\"1\" class=\"dataframe\">\n",
       "  <thead>\n",
       "    <tr style=\"text-align: right;\">\n",
       "      <th></th>\n",
       "      <th>mutant</th>\n",
       "      <th>mutated_sequence</th>\n",
       "      <th>DMS_score</th>\n",
       "      <th>DMS_score_bin</th>\n",
       "    </tr>\n",
       "  </thead>\n",
       "  <tbody>\n",
       "    <tr>\n",
       "      <th>0</th>\n",
       "      <td>A15C</td>\n",
       "      <td>FDIYVVTADYLPLGCEQDAITLREGQYVEVLDAAHPLRWLVRTKPT...</td>\n",
       "      <td>0.211419</td>\n",
       "      <td>1</td>\n",
       "    </tr>\n",
       "    <tr>\n",
       "      <th>1</th>\n",
       "      <td>A15D</td>\n",
       "      <td>FDIYVVTADYLPLGDEQDAITLREGQYVEVLDAAHPLRWLVRTKPT...</td>\n",
       "      <td>0.635936</td>\n",
       "      <td>1</td>\n",
       "    </tr>\n",
       "    <tr>\n",
       "      <th>2</th>\n",
       "      <td>A15E</td>\n",
       "      <td>FDIYVVTADYLPLGEEQDAITLREGQYVEVLDAAHPLRWLVRTKPT...</td>\n",
       "      <td>0.277172</td>\n",
       "      <td>1</td>\n",
       "    </tr>\n",
       "    <tr>\n",
       "      <th>3</th>\n",
       "      <td>A15F</td>\n",
       "      <td>FDIYVVTADYLPLGFEQDAITLREGQYVEVLDAAHPLRWLVRTKPT...</td>\n",
       "      <td>0.099342</td>\n",
       "      <td>1</td>\n",
       "    </tr>\n",
       "    <tr>\n",
       "      <th>4</th>\n",
       "      <td>A15G</td>\n",
       "      <td>FDIYVVTADYLPLGGEQDAITLREGQYVEVLDAAHPLRWLVRTKPT...</td>\n",
       "      <td>0.309341</td>\n",
       "      <td>1</td>\n",
       "    </tr>\n",
       "  </tbody>\n",
       "</table>\n",
       "</div>"
      ],
      "text/plain": [
       "  mutant                                   mutated_sequence  DMS_score  \\\n",
       "0   A15C  FDIYVVTADYLPLGCEQDAITLREGQYVEVLDAAHPLRWLVRTKPT...   0.211419   \n",
       "1   A15D  FDIYVVTADYLPLGDEQDAITLREGQYVEVLDAAHPLRWLVRTKPT...   0.635936   \n",
       "2   A15E  FDIYVVTADYLPLGEEQDAITLREGQYVEVLDAAHPLRWLVRTKPT...   0.277172   \n",
       "3   A15F  FDIYVVTADYLPLGFEQDAITLREGQYVEVLDAAHPLRWLVRTKPT...   0.099342   \n",
       "4   A15G  FDIYVVTADYLPLGGEQDAITLREGQYVEVLDAAHPLRWLVRTKPT...   0.309341   \n",
       "\n",
       "   DMS_score_bin  \n",
       "0              1  \n",
       "1              1  \n",
       "2              1  \n",
       "3              1  \n",
       "4              1  "
      ]
     },
     "execution_count": 13,
     "metadata": {},
     "output_type": "execute_result"
    }
   ],
   "source": [
    "import pandas as pd\n",
    "\n",
    "# Load a benchmark dataset\n",
    "benchmark_file = \"OBSCN_HUMAN_Tsuboyama_2023_1V1C.csv\"  \n",
    "df = pd.read_csv(benchmark_file)\n",
    "\n",
    "# Preview dataset\n",
    "df.head()\n"
   ]
  },
  {
   "cell_type": "code",
   "execution_count": 14,
   "id": "b4e570e1-6618-4d97-ae8d-dd5d2f111af5",
   "metadata": {
    "execution": {
     "iopub.execute_input": "2025-02-16T04:10:53.823742Z",
     "iopub.status.busy": "2025-02-16T04:10:53.823484Z",
     "iopub.status.idle": "2025-02-16T04:10:53.826683Z",
     "shell.execute_reply": "2025-02-16T04:10:53.826224Z",
     "shell.execute_reply.started": "2025-02-16T04:10:53.823723Z"
    },
    "tags": []
   },
   "outputs": [],
   "source": [
    "ref_seq = \"FDIYVVTADYLPLGAEQDAITLREGQYVEVLDAAHPLRWLVRTKPTKSSPSRQGWVSPAYLDRRL\""
   ]
  },
  {
   "cell_type": "code",
   "execution_count": 15,
   "id": "31803e29-68d9-441d-a294-185d4fd83cd9",
   "metadata": {
    "execution": {
     "iopub.execute_input": "2025-02-16T04:10:54.600260Z",
     "iopub.status.busy": "2025-02-16T04:10:54.599819Z",
     "iopub.status.idle": "2025-02-16T04:12:52.397950Z",
     "shell.execute_reply": "2025-02-16T04:12:52.397353Z",
     "shell.execute_reply.started": "2025-02-16T04:10:54.600223Z"
    },
    "tags": []
   },
   "outputs": [
    {
     "name": "stderr",
     "output_type": "stream",
     "text": [
      "100%|██████████| 3197/3197 [01:57<00:00, 27.15it/s]\n"
     ]
    }
   ],
   "source": [
    "import torch\n",
    "from tqdm import tqdm\n",
    "\n",
    "device = torch.device(\"cuda\" if torch.cuda.is_available() else \"cpu\")\n",
    "model.to(device)  # Move model to GPU\n",
    "\n",
    "results = []\n",
    "\n",
    "for _, row in tqdm(df.iterrows(), total=len(df)):\n",
    "    wildtype = ref_seq\n",
    "    mutant = row[\"mutated_sequence\"]\n",
    "\n",
    "    log_likelihood_wildtype = torch.tensor(compute_log_likelihood(wildtype, model, tokenizer), device=device)\n",
    "    log_likelihood_mutant = torch.tensor(compute_log_likelihood(mutant, model, tokenizer), device=device)\n",
    "\n",
    "    llr_score = log_likelihood_mutant - log_likelihood_wildtype  # Compute LLR\n",
    "\n",
    "    results.append({\"Mutation\": row[\"mutant\"], \"LLR\": llr_score.item()})  # Convert tensor to float\n",
    "\n",
    "# Convert results to DataFrame\n",
    "results_df = pd.DataFrame(results)\n"
   ]
  },
  {
   "cell_type": "code",
   "execution_count": 18,
   "id": "04f9e0b7-f054-4cd0-a9a2-4e68405dc0bc",
   "metadata": {
    "execution": {
     "iopub.execute_input": "2025-02-16T04:18:34.189395Z",
     "iopub.status.busy": "2025-02-16T04:18:34.189047Z",
     "iopub.status.idle": "2025-02-16T04:18:34.217029Z",
     "shell.execute_reply": "2025-02-16T04:18:34.216530Z",
     "shell.execute_reply.started": "2025-02-16T04:18:34.189369Z"
    },
    "tags": []
   },
   "outputs": [],
   "source": [
    "results_df\n",
    "results_df.to_csv(\"progen2_proteingym_results.csv\", index=False)"
   ]
  },
  {
   "cell_type": "code",
   "execution_count": 17,
   "id": "f90ee86e-6e5b-4df5-80f8-4b8084583b86",
   "metadata": {
    "execution": {
     "iopub.execute_input": "2025-02-16T04:17:54.812674Z",
     "iopub.status.busy": "2025-02-16T04:17:54.812382Z",
     "iopub.status.idle": "2025-02-16T04:17:55.201150Z",
     "shell.execute_reply": "2025-02-16T04:17:55.200677Z",
     "shell.execute_reply.started": "2025-02-16T04:17:54.812653Z"
    }
   },
   "outputs": [
    {
     "data": {
      "image/png": "[encoded data removed]",
      "text/plain": [
       "<Figure size 1200x600 with 1 Axes>"
      ]
     },
     "metadata": {},
     "output_type": "display_data"
    }
   ],
   "source": [
    "\n",
    "# Sort results for better visualization\n",
    "results_df = results_df.sort_values(by=\"LLR\", ascending=False)\n",
    "\n",
    "# Plot LLR Scores\n",
    "plt.figure(figsize=(12, 6))\n",
    "plt.bar(results_df[\"Mutation\"][:20], results_df[\"LLR\"][:20], color=\"blue\", alpha=0.7)\n",
    "plt.xlabel(\"Mutation\")\n",
    "plt.ylabel(\"Log-Likelihood Ratio (LLR)\")\n",
    "plt.title(\"Top 20 Mutations by LLR Score\")\n",
    "plt.xticks(rotation=45)\n",
    "plt.show()\n"
   ]
  },
  {
   "cell_type": "code",
   "execution_count": 21,
   "id": "5dd6cd3f-6343-49d1-9f60-9422df9f15cb",
   "metadata": {
    "execution": {
     "iopub.execute_input": "2025-02-16T04:20:29.003663Z",
     "iopub.status.busy": "2025-02-16T04:20:29.002975Z",
     "iopub.status.idle": "2025-02-16T04:20:36.335807Z",
     "shell.execute_reply": "2025-02-16T04:20:36.335123Z",
     "shell.execute_reply.started": "2025-02-16T04:20:29.003621Z"
    },
    "tags": []
   },
   "outputs": [
    {
     "name": "stderr",
     "output_type": "stream",
     "text": [
      "huggingface/tokenizers: The current process just got forked, after parallelism has already been used. Disabling parallelism to avoid deadlocks...\n",
      "To disable this warning, you can either:\n",
      "\t- Avoid using `tokenizers` before the fork if possible\n",
      "\t- Explicitly set the environment variable TOKENIZERS_PARALLELISM=(true | false)\n"
     ]
    },
    {
     "name": "stdout",
     "output_type": "stream",
     "text": [
      "Collecting git+https://github.com/OATML/ProteinGym.git\n",
      "  Cloning https://github.com/OATML/ProteinGym.git to /tmp/pip-req-build-vey6n9cp\n",
      "  Running command git clone --filter=blob:none --quiet https://github.com/OATML/ProteinGym.git /tmp/pip-req-build-vey6n9cp\n",
      "Username for 'https://github.com': ^C\n",
      "\u001b[31mERROR: Operation cancelled by user\u001b[0m\u001b[31m\n",
      "\u001b[0m"
     ]
    }
   ],
   "source": []
  },
  {
   "cell_type": "code",
   "execution_count": null,
   "id": "e2d13174-b174-4364-a9c4-2aa19892426b",
   "metadata": {},
   "outputs": [],
   "source": [
    "!python evaluate_predictions.py --predictions progen2_proteingym_results.csv --dataset data/fitness_datasets/DMS_SARS2_RBD.csv\n"
   ]
  },
  {
   "cell_type": "code",
   "execution_count": 22,
   "id": "1663d453-41ab-47e4-b7bc-c725b34de68e",
   "metadata": {
    "execution": {
     "iopub.execute_input": "2025-02-16T17:08:20.836198Z",
     "iopub.status.busy": "2025-02-16T17:08:20.835944Z",
     "iopub.status.idle": "2025-02-16T17:08:20.839535Z",
     "shell.execute_reply": "2025-02-16T17:08:20.839106Z",
     "shell.execute_reply.started": "2025-02-16T17:08:20.836179Z"
    }
   },
   "outputs": [
    {
     "name": "stdout",
     "output_type": "stream",
     "text": [
      "True\n"
     ]
    }
   ],
   "source": [
    "print(torch.cuda.is_available())"
   ]
  },
  {
   "cell_type": "code",
   "execution_count": null,
   "id": "f38b948c-1fe5-4b52-82ac-ce1ff5df84f1",
   "metadata": {},
   "outputs": [],
   "source": []
  }
 ],
 "metadata": {
  "kernelspec": {
   "display_name": "Python 3.9 (py39)",
   "language": "python",
   "name": "py39"
  },
  "language_info": {
   "codemirror_mode": {
    "name": "ipython",
    "version": 3
   },
   "file_extension": ".py",
   "mimetype": "text/x-python",
   "name": "python",
   "nbconvert_exporter": "python",
   "pygments_lexer": "ipython3",
   "version": "3.9.13"
  }
 },
 "nbformat": 4,
 "nbformat_minor": 5
}
